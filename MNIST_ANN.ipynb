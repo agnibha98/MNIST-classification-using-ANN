{
  "nbformat": 4,
  "nbformat_minor": 0,
  "metadata": {
    "colab": {
      "name": "MNIST ANN",
      "provenance": [],
      "collapsed_sections": []
    },
    "kernelspec": {
      "name": "python3",
      "display_name": "Python 3"
    }
  },
  "cells": [
    {
      "cell_type": "code",
      "metadata": {
        "id": "rM9kthniS_n2",
        "colab_type": "code",
        "colab": {}
      },
      "source": [
        "import tensorflow as tf"
      ],
      "execution_count": 0,
      "outputs": []
    },
    {
      "cell_type": "code",
      "metadata": {
        "id": "PbiuGdG9UAtG",
        "colab_type": "code",
        "colab": {}
      },
      "source": [
        "mnist_data=tf.keras.datasets.mnist"
      ],
      "execution_count": 0,
      "outputs": []
    },
    {
      "cell_type": "code",
      "metadata": {
        "id": "cq7a-J0rbDVI",
        "colab_type": "code",
        "outputId": "33aa279f-df53-4c5e-866b-bf7735e82513",
        "colab": {
          "base_uri": "https://localhost:8080/",
          "height": 54
        }
      },
      "source": [
        "(x_train,y_train),(x_test,y_test)=mnist_data.load_data() #load data loads the training and test data in two tuple format"
      ],
      "execution_count": 0,
      "outputs": [
        {
          "output_type": "stream",
          "text": [
            "Downloading data from https://storage.googleapis.com/tensorflow/tf-keras-datasets/mnist.npz\n",
            "11493376/11490434 [==============================] - 0s 0us/step\n"
          ],
          "name": "stdout"
        }
      ]
    },
    {
      "cell_type": "code",
      "metadata": {
        "id": "M6SkWPKsg6gp",
        "colab_type": "code",
        "colab": {}
      },
      "source": [
        "x_train,x_test=x_train/255,x_test/255 #normalize the inputs "
      ],
      "execution_count": 0,
      "outputs": []
    },
    {
      "cell_type": "code",
      "metadata": {
        "id": "ol52foBVhJ_6",
        "colab_type": "code",
        "outputId": "de00d57f-8ac3-4e58-fc3b-b712da9cf854",
        "colab": {
          "base_uri": "https://localhost:8080/",
          "height": 36
        }
      },
      "source": [
        "print(x_train.shape)"
      ],
      "execution_count": 0,
      "outputs": [
        {
          "output_type": "stream",
          "text": [
            "(60000, 28, 28)\n"
          ],
          "name": "stdout"
        }
      ]
    },
    {
      "cell_type": "code",
      "metadata": {
        "id": "Xpu7CPBihXTj",
        "colab_type": "code",
        "colab": {}
      },
      "source": [
        "#build the model\n",
        "hidden_layer_size=128\n",
        "model=tf.keras.models.Sequential([\n",
        "                                  tf.keras.layers.Flatten(input_shape=(28,28)),\n",
        "                                  tf.keras.layers.Dense(hidden_layer_size,activation='relu'),\n",
        "                                  tf.keras.layers.Dropout(0.2),\n",
        "                                  tf.keras.layers.Dense(10,activation='softmax')\n",
        "])\n",
        "model.compile(optimizer='adam',loss='sparse_categorical_crossentropy',metrics=['accuracy'])\n",
        "\n"
      ],
      "execution_count": 0,
      "outputs": []
    },
    {
      "cell_type": "code",
      "metadata": {
        "id": "PLkaegzSja_U",
        "colab_type": "code",
        "outputId": "58e63c9f-9779-4034-ed9d-195f13f2e635",
        "colab": {
          "base_uri": "https://localhost:8080/",
          "height": 859
        }
      },
      "source": [
        "num_of_epochs=22\n",
        "model.fit(x_train,y_train,validation_data=(x_test,y_test),epochs=num_of_epochs)"
      ],
      "execution_count": 0,
      "outputs": [
        {
          "output_type": "stream",
          "text": [
            "Epoch 1/22\n",
            "1875/1875 [==============================] - 4s 2ms/step - loss: 0.2983 - accuracy: 0.9130 - val_loss: 0.1420 - val_accuracy: 0.9573\n",
            "Epoch 2/22\n",
            "1875/1875 [==============================] - 4s 2ms/step - loss: 0.1444 - accuracy: 0.9576 - val_loss: 0.0988 - val_accuracy: 0.9685\n",
            "Epoch 3/22\n",
            "1875/1875 [==============================] - 4s 2ms/step - loss: 0.1077 - accuracy: 0.9671 - val_loss: 0.0883 - val_accuracy: 0.9712\n",
            "Epoch 4/22\n",
            "1875/1875 [==============================] - 4s 2ms/step - loss: 0.0870 - accuracy: 0.9725 - val_loss: 0.0780 - val_accuracy: 0.9747\n",
            "Epoch 5/22\n",
            "1875/1875 [==============================] - 4s 2ms/step - loss: 0.0746 - accuracy: 0.9769 - val_loss: 0.0769 - val_accuracy: 0.9756\n",
            "Epoch 6/22\n",
            "1875/1875 [==============================] - 4s 2ms/step - loss: 0.0635 - accuracy: 0.9796 - val_loss: 0.0733 - val_accuracy: 0.9769\n",
            "Epoch 7/22\n",
            "1875/1875 [==============================] - 4s 2ms/step - loss: 0.0592 - accuracy: 0.9808 - val_loss: 0.0674 - val_accuracy: 0.9773\n",
            "Epoch 8/22\n",
            "1875/1875 [==============================] - 4s 2ms/step - loss: 0.0528 - accuracy: 0.9838 - val_loss: 0.0725 - val_accuracy: 0.9779\n",
            "Epoch 9/22\n",
            "1875/1875 [==============================] - 4s 2ms/step - loss: 0.0476 - accuracy: 0.9845 - val_loss: 0.0715 - val_accuracy: 0.9780\n",
            "Epoch 10/22\n",
            "1875/1875 [==============================] - 4s 2ms/step - loss: 0.0443 - accuracy: 0.9858 - val_loss: 0.0680 - val_accuracy: 0.9792\n",
            "Epoch 11/22\n",
            "1875/1875 [==============================] - 4s 2ms/step - loss: 0.0412 - accuracy: 0.9862 - val_loss: 0.0660 - val_accuracy: 0.9799\n",
            "Epoch 12/22\n",
            "1875/1875 [==============================] - 4s 2ms/step - loss: 0.0382 - accuracy: 0.9871 - val_loss: 0.0681 - val_accuracy: 0.9790\n",
            "Epoch 13/22\n",
            "1875/1875 [==============================] - 4s 2ms/step - loss: 0.0348 - accuracy: 0.9885 - val_loss: 0.0760 - val_accuracy: 0.9800\n",
            "Epoch 14/22\n",
            "1875/1875 [==============================] - 4s 2ms/step - loss: 0.0344 - accuracy: 0.9881 - val_loss: 0.0716 - val_accuracy: 0.9819\n",
            "Epoch 15/22\n",
            "1875/1875 [==============================] - 4s 2ms/step - loss: 0.0316 - accuracy: 0.9893 - val_loss: 0.0719 - val_accuracy: 0.9797\n",
            "Epoch 16/22\n",
            "1875/1875 [==============================] - 4s 2ms/step - loss: 0.0285 - accuracy: 0.9897 - val_loss: 0.0741 - val_accuracy: 0.9816\n",
            "Epoch 17/22\n",
            "1875/1875 [==============================] - 4s 2ms/step - loss: 0.0321 - accuracy: 0.9892 - val_loss: 0.0775 - val_accuracy: 0.9802\n",
            "Epoch 18/22\n",
            "1875/1875 [==============================] - 4s 2ms/step - loss: 0.0293 - accuracy: 0.9898 - val_loss: 0.0773 - val_accuracy: 0.9817\n",
            "Epoch 19/22\n",
            "1875/1875 [==============================] - 4s 2ms/step - loss: 0.0269 - accuracy: 0.9906 - val_loss: 0.0799 - val_accuracy: 0.9810\n",
            "Epoch 20/22\n",
            "1875/1875 [==============================] - 4s 2ms/step - loss: 0.0270 - accuracy: 0.9907 - val_loss: 0.0769 - val_accuracy: 0.9807\n",
            "Epoch 21/22\n",
            "1875/1875 [==============================] - 4s 2ms/step - loss: 0.0249 - accuracy: 0.9916 - val_loss: 0.0795 - val_accuracy: 0.9803\n",
            "Epoch 22/22\n",
            "1875/1875 [==============================] - 4s 2ms/step - loss: 0.0243 - accuracy: 0.9915 - val_loss: 0.0774 - val_accuracy: 0.9806\n"
          ],
          "name": "stdout"
        },
        {
          "output_type": "execute_result",
          "data": {
            "text/plain": [
              "<tensorflow.python.keras.callbacks.History at 0x7f411aa7be10>"
            ]
          },
          "metadata": {
            "tags": []
          },
          "execution_count": 8
        }
      ]
    },
    {
      "cell_type": "code",
      "metadata": {
        "id": "rnQQBbyMjqzj",
        "colab_type": "code",
        "colab": {}
      },
      "source": [
        "model.evaluate(x_test,y_test)\n",
        "model.evaluate(x_train,y_train)"
      ],
      "execution_count": 0,
      "outputs": []
    },
    {
      "cell_type": "code",
      "metadata": {
        "id": "I0Ib4Ezxj1zd",
        "colab_type": "code",
        "colab": {}
      },
      "source": [
        ""
      ],
      "execution_count": 0,
      "outputs": []
    }
  ]
}